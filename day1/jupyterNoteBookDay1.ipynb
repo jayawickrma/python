{
 "cells": [
  {
   "cell_type": "code",
   "execution_count": 3,
   "metadata": {},
   "outputs": [
    {
     "name": "stdout",
     "output_type": "stream",
     "text": [
      "the type of that variable <class 'int'>\n"
     ]
    }
   ],
   "source": [
    "a=100\n",
    "print(\"the type of that variable\",type(a))"
   ]
  },
  {
   "cell_type": "code",
   "execution_count": null,
   "metadata": {},
   "outputs": [],
   "source": [
    "my_list2=[20,15,\"dog\",True]\n"
   ]
  },
  {
   "cell_type": "code",
   "execution_count": 4,
   "metadata": {},
   "outputs": [
    {
     "name": "stdout",
     "output_type": "stream",
     "text": [
      "20.4 <class 'float'>\n"
     ]
    }
   ],
   "source": [
    "num1=20.4\n",
    "print(num1,type(num1))"
   ]
  },
  {
   "cell_type": "code",
   "execution_count": 5,
   "metadata": {},
   "outputs": [
    {
     "name": "stdout",
     "output_type": "stream",
     "text": [
      "4.0 <class 'float'>\n"
     ]
    }
   ],
   "source": [
    "num2=4\n",
    "b=float(num2)\n",
    "print(b,type(b))"
   ]
  },
  {
   "cell_type": "code",
   "execution_count": 6,
   "metadata": {},
   "outputs": [
    {
     "name": "stdout",
     "output_type": "stream",
     "text": [
      "5 <class 'int'>\n"
     ]
    }
   ],
   "source": [
    "num3=5.3\n",
    "c=int(num3)\n",
    "print(c,type(c))"
   ]
  },
  {
   "cell_type": "code",
   "execution_count": 7,
   "metadata": {},
   "outputs": [
    {
     "name": "stdout",
     "output_type": "stream",
     "text": [
      "[10, 20, 30, 40] <class 'list'>\n",
      "Thirs index of the array 30\n"
     ]
    }
   ],
   "source": [
    "my_List=[10,20,30,40]\n",
    "print(my_List,type(my_List))\n",
    "print(\"Thirs index of the array\",my_List[2])"
   ]
  },
  {
   "cell_type": "code",
   "execution_count": 8,
   "metadata": {},
   "outputs": [
    {
     "name": "stdout",
     "output_type": "stream",
     "text": [
      "[10, 25, 30, 40]\n"
     ]
    }
   ],
   "source": [
    "my_List[1]=25\n",
    "print(my_List)"
   ]
  },
  {
   "cell_type": "code",
   "execution_count": 9,
   "metadata": {},
   "outputs": [
    {
     "name": "stdout",
     "output_type": "stream",
     "text": [
      "an array length is 4\n"
     ]
    }
   ],
   "source": [
    "print(\"an array length is\",len(my_List))"
   ]
  },
  {
   "cell_type": "code",
   "execution_count": 11,
   "metadata": {},
   "outputs": [
    {
     "name": "stdout",
     "output_type": "stream",
     "text": [
      "The second value start with the backside 30\n"
     ]
    }
   ],
   "source": [
    "print(\"The second value start with the backside\",my_List[-2])"
   ]
  },
  {
   "cell_type": "code",
   "execution_count": 14,
   "metadata": {},
   "outputs": [
    {
     "name": "stdout",
     "output_type": "stream",
     "text": [
      "The values are 2nd and 3rd indexes [25, 30]\n"
     ]
    }
   ],
   "source": [
    "print(\"The values are 2nd and 3rd indexes\",my_List[1:3])"
   ]
  },
  {
   "cell_type": "code",
   "execution_count": 15,
   "metadata": {},
   "outputs": [
    {
     "name": "stdout",
     "output_type": "stream",
     "text": [
      "the values untill 3rd index [10, 25, 30]\n"
     ]
    }
   ],
   "source": [
    "print(\"the values untill 3rd index\",my_List[:3])"
   ]
  },
  {
   "cell_type": "code",
   "execution_count": 17,
   "metadata": {},
   "outputs": [
    {
     "name": "stdout",
     "output_type": "stream",
     "text": [
      "all values after 1st index [25, 30, 40]\n"
     ]
    }
   ],
   "source": [
    "print(\"all values after 1st index\",my_List[1:])"
   ]
  },
  {
   "cell_type": "code",
   "execution_count": 19,
   "metadata": {},
   "outputs": [
    {
     "name": "stdout",
     "output_type": "stream",
     "text": [
      "There is an updated array values  [10, 'nishan', 'tharaka', 30, 40]\n"
     ]
    }
   ],
   "source": [
    "my_List[1:2]=[\"nishan\",\"tharaka\"]\n",
    "print(\"There is an updated array values \",my_List)"
   ]
  },
  {
   "cell_type": "code",
   "execution_count": 21,
   "metadata": {},
   "outputs": [
    {
     "name": "stdout",
     "output_type": "stream",
     "text": [
      "Added new value to the 4th index and here is updated cintent [10, 'nishan', 'tharaka', 'Nethmi', 'Nethmi', 30, 40]\n"
     ]
    }
   ],
   "source": [
    "my_List.insert(3,\"Nethmi\")\n",
    "print(\"Added new value to the 4th index and here is updated cintent\",my_List)"
   ]
  },
  {
   "cell_type": "code",
   "execution_count": 22,
   "metadata": {},
   "outputs": [
    {
     "name": "stdout",
     "output_type": "stream",
     "text": [
      "added a new value for the end of the array and this is updatd version [10, 'nishan', 'tharaka', 'Nethmi', 'Nethmi', 30, 40, 'chuty']\n"
     ]
    }
   ],
   "source": [
    "my_List.append(\"chuty\")\n",
    "print(\"added a new value for the end of the array and this is updatd version\",my_List)"
   ]
  },
  {
   "cell_type": "code",
   "execution_count": 24,
   "metadata": {},
   "outputs": [
    {
     "name": "stdout",
     "output_type": "stream",
     "text": [
      "extended new array to this array and print it [10, 'nishan', 'tharaka', 'Nethmi', 'Nethmi', 30, 40, 'chuty', 10, 11, 12, 10, 11, 12]\n"
     ]
    }
   ],
   "source": [
    "new_List=[10,11,12]\n",
    "my_List.extend(new_List)\n",
    "print(\"extended new array to this array and print it\",my_List)"
   ]
  },
  {
   "cell_type": "code",
   "execution_count": 25,
   "metadata": {},
   "outputs": [
    {
     "name": "stdout",
     "output_type": "stream",
     "text": [
      "removed 2nd index of array [10, 'nishan', 'Nethmi', 'Nethmi', 30, 40, 'chuty', 10, 11, 12, 10, 11, 12]\n"
     ]
    }
   ],
   "source": [
    "my_List.pop(2)\n",
    "print(\"removed 2nd index of array\",my_List)"
   ]
  },
  {
   "cell_type": "code",
   "execution_count": 27,
   "metadata": {},
   "outputs": [
    {
     "name": "stdout",
     "output_type": "stream",
     "text": [
      "[10, 'nishan', 'Nethmi', 30, 40, 'chuty', 10, 11, 12, 10, 11, 12]\n"
     ]
    }
   ],
   "source": [
    "del my_List[2]\n",
    "print(my_List)"
   ]
  },
  {
   "cell_type": "code",
   "execution_count": 28,
   "metadata": {},
   "outputs": [
    {
     "ename": "NameError",
     "evalue": "name 'my_List' is not defined",
     "output_type": "error",
     "traceback": [
      "\u001b[1;31m---------------------------------------------------------------------------\u001b[0m",
      "\u001b[1;31mNameError\u001b[0m                                 Traceback (most recent call last)",
      "Cell \u001b[1;32mIn[28], line 2\u001b[0m\n\u001b[0;32m      1\u001b[0m \u001b[38;5;28;01mdel\u001b[39;00m my_List\n\u001b[1;32m----> 2\u001b[0m \u001b[38;5;28mprint\u001b[39m(\u001b[38;5;28mlen\u001b[39m(\u001b[43mmy_List\u001b[49m))\n",
      "\u001b[1;31mNameError\u001b[0m: name 'my_List' is not defined"
     ]
    }
   ],
   "source": [
    "del my_List\n",
    "print(len(my_List))"
   ]
  },
  {
   "cell_type": "code",
   "execution_count": 31,
   "metadata": {},
   "outputs": [
    {
     "ename": "NameError",
     "evalue": "name 'my_List' is not defined",
     "output_type": "error",
     "traceback": [
      "\u001b[1;31m---------------------------------------------------------------------------\u001b[0m",
      "\u001b[1;31mNameError\u001b[0m                                 Traceback (most recent call last)",
      "Cell \u001b[1;32mIn[31], line 1\u001b[0m\n\u001b[1;32m----> 1\u001b[0m \u001b[43mmy_List\u001b[49m\u001b[38;5;241m.\u001b[39mclear()\n\u001b[0;32m      2\u001b[0m \u001b[38;5;28mprint\u001b[39m(\u001b[38;5;28mlen\u001b[39m(my_List))\n",
      "\u001b[1;31mNameError\u001b[0m: name 'my_List' is not defined"
     ]
    }
   ],
   "source": [
    "my_List.clear()\n",
    "print(len(my_List))"
   ]
  },
  {
   "cell_type": "code",
   "execution_count": 2,
   "metadata": {},
   "outputs": [
    {
     "name": "stdout",
     "output_type": "stream",
     "text": [
      "['def', 'cde', 'bcd', 'abc', 'aaegh']\n"
     ]
    }
   ],
   "source": [
    "hh=[\"abc\",\"bcd\",\"cde\",\"def\",\"aaegh\"]\n",
    "hh.sort(reverse=True)\n",
    "print(hh)"
   ]
  },
  {
   "cell_type": "code",
   "execution_count": 3,
   "metadata": {},
   "outputs": [
    {
     "ename": "TypeError",
     "evalue": "unbound method str.lower() needs an argument",
     "output_type": "error",
     "traceback": [
      "\u001b[1;31m---------------------------------------------------------------------------\u001b[0m",
      "\u001b[1;31mTypeError\u001b[0m                                 Traceback (most recent call last)",
      "Cell \u001b[1;32mIn[3], line 2\u001b[0m\n\u001b[0;32m      1\u001b[0m hh\u001b[38;5;241m=\u001b[39m[\u001b[38;5;124m\"\u001b[39m\u001b[38;5;124mAbc\u001b[39m\u001b[38;5;124m\"\u001b[39m,\u001b[38;5;124m\"\u001b[39m\u001b[38;5;124mbcd\u001b[39m\u001b[38;5;124m\"\u001b[39m,\u001b[38;5;124m\"\u001b[39m\u001b[38;5;124mcde\u001b[39m\u001b[38;5;124m\"\u001b[39m,\u001b[38;5;124m\"\u001b[39m\u001b[38;5;124mdef\u001b[39m\u001b[38;5;124m\"\u001b[39m,\u001b[38;5;124m\"\u001b[39m\u001b[38;5;124maaegh\u001b[39m\u001b[38;5;124m\"\u001b[39m]\n\u001b[1;32m----> 2\u001b[0m hh\u001b[38;5;241m.\u001b[39msort(key\u001b[38;5;241m=\u001b[39m\u001b[38;5;28;43mstr\u001b[39;49m\u001b[38;5;241;43m.\u001b[39;49m\u001b[43mlower\u001b[49m\u001b[43m(\u001b[49m\u001b[43m)\u001b[49m)\n\u001b[0;32m      3\u001b[0m \u001b[38;5;28mprint\u001b[39m(hh)\n",
      "\u001b[1;31mTypeError\u001b[0m: unbound method str.lower() needs an argument"
     ]
    }
   ],
   "source": [
    "hh=[\"Abc\",\"bcd\",\"cde\",\"def\",\"aaegh\"]\n",
    "hh.sort(key=str.lower())\n",
    "print(hh)\n"
   ]
  }
 ],
 "metadata": {
  "kernelspec": {
   "display_name": "Python 3",
   "language": "python",
   "name": "python3"
  },
  "language_info": {
   "codemirror_mode": {
    "name": "ipython",
    "version": 3
   },
   "file_extension": ".py",
   "mimetype": "text/x-python",
   "name": "python",
   "nbconvert_exporter": "python",
   "pygments_lexer": "ipython3",
   "version": "3.13.0"
  }
 },
 "nbformat": 4,
 "nbformat_minor": 2
}
