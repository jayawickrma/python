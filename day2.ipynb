{
 "cells": [
  {
   "cell_type": "code",
   "execution_count": 1,
   "metadata": {},
   "outputs": [
    {
     "name": "stdout",
     "output_type": "stream",
     "text": [
      "[10, 'nishan', 30, 40, 50]\n",
      "[10, 20, 30, 40, 50]\n"
     ]
    }
   ],
   "source": [
    "my_list1=[10,20,30,40,50]\n",
    "my_list2=[]\n",
    "my_list2=my_list1.copy()\n",
    "my_list1[1]=\"nishan\"\n",
    "# my_list1(my_list2)\n",
    "print(my_list1)\n",
    "print(my_list2)"
   ]
  },
  {
   "cell_type": "code",
   "execution_count": 2,
   "metadata": {},
   "outputs": [
    {
     "name": "stdout",
     "output_type": "stream",
     "text": [
      "[10, 40, 30, 40, 50] [10, 'nishan', 30, 40, 50]\n"
     ]
    }
   ],
   "source": [
    "my_list2=list(my_list1)\n",
    "my_list1[1]=40\n",
    "print(my_list1,my_list2)"
   ]
  },
  {
   "cell_type": "code",
   "execution_count": 4,
   "metadata": {},
   "outputs": [
    {
     "name": "stdout",
     "output_type": "stream",
     "text": [
      "[10, 40, 30, 40, 50, 10, 'nishan', 30, 40, 50] 10\n"
     ]
    }
   ],
   "source": [
    "my_list3=my_list1+my_list2\n",
    "print(my_list3,len(my_list3))"
   ]
  },
  {
   "cell_type": "code",
   "execution_count": 8,
   "metadata": {},
   "outputs": [
    {
     "name": "stdout",
     "output_type": "stream",
     "text": [
      "<class 'tuple'>\n"
     ]
    }
   ],
   "source": [
    "\n",
    "my_tuple1=(\"dog\",\"cat\",\"bird\",\"tiger\",\"lion\")\n",
    "print(type(my_tuple1))"
   ]
  },
  {
   "cell_type": "code",
   "execution_count": null,
   "metadata": {},
   "outputs": [
    {
     "ename": "TypeError",
     "evalue": "'tuple' object does not support item assignment",
     "output_type": "error",
     "traceback": [
      "\u001b[1;31m---------------------------------------------------------------------------\u001b[0m",
      "\u001b[1;31mTypeError\u001b[0m                                 Traceback (most recent call last)",
      "Cell \u001b[1;32mIn[9], line 1\u001b[0m\n\u001b[1;32m----> 1\u001b[0m \u001b[43mmy_tuple1\u001b[49m\u001b[43m[\u001b[49m\u001b[38;5;241;43m1\u001b[39;49m\u001b[43m]\u001b[49m\u001b[38;5;241m=\u001b[39m\u001b[38;5;124m\"\u001b[39m\u001b[38;5;124mnishan\u001b[39m\u001b[38;5;124m\"\u001b[39m\n\u001b[0;32m      2\u001b[0m \u001b[38;5;28mprint\u001b[39m(my_tuple1)\n",
      "\u001b[1;31mTypeError\u001b[0m: 'tuple' object does not support item assignment"
     ]
    }
   ],
   "source": [
    "\n",
    "my_tuple1[1]=\"nishan\"\n",
    "print(my_tuple1)"
   ]
  },
  {
   "cell_type": "code",
   "execution_count": 14,
   "metadata": {},
   "outputs": [
    {
     "name": "stdout",
     "output_type": "stream",
     "text": [
      "('dog', 'nishan', 'bird', 'tiger', 'lion') <class 'tuple'>\n"
     ]
    }
   ],
   "source": [
    "\n",
    "my_tuple1=(\"dog\",\"cat\",\"bird\",\"tiger\",\"lion\")\n",
    "my_list1=list(my_tuple1)\n",
    "my_list1[1]=\"nishan\"\n",
    "my_tuple1=tuple(my_list1)\n",
    "print(my_tuple1,type(my_tuple1))"
   ]
  },
  {
   "cell_type": "code",
   "execution_count": 21,
   "metadata": {},
   "outputs": [
    {
     "name": "stdout",
     "output_type": "stream",
     "text": [
      "[-1, 5, 5, 8, 9, 10, 20] <class 'list'>\n"
     ]
    }
   ],
   "source": [
    "my_tuple1=(10,8,20,5)\n",
    "my_tuple2=(5,9,-1)\n",
    "my=my_tuple1+my_tuple2\n",
    "my1=sorted(my)\n",
    "print(my1,type(my1))"
   ]
  },
  {
   "cell_type": "code",
   "execution_count": 28,
   "metadata": {},
   "outputs": [
    {
     "name": "stdout",
     "output_type": "stream",
     "text": [
      "10\n",
      "rat\n",
      "False\n"
     ]
    }
   ],
   "source": [
    "my_tuple1=((1,10,8),(\"dog\",\"cat\",\"rat\"),(False,True))\n",
    "print(my_tuple1[0][1])\n",
    "print(my_tuple1[1][2])\n",
    "print(my_tuple1[2][0])"
   ]
  },
  {
   "cell_type": "code",
   "execution_count": 32,
   "metadata": {},
   "outputs": [
    {
     "name": "stdout",
     "output_type": "stream",
     "text": [
      "range(2, 20, 2) <class 'range'>\n",
      "2 4 6 8 10 12 14 16 18 "
     ]
    }
   ],
   "source": [
    "r1=range(2,20,2)\n",
    "print(r1,type(r1))\n",
    "\n",
    "for i in r1:\n",
    "    print(i,end=\" \")"
   ]
  },
  {
   "cell_type": "code",
   "execution_count": null,
   "metadata": {},
   "outputs": [
    {
     "name": "stdout",
     "output_type": "stream",
     "text": [
      "{'name': 'nishan', 'age': 20, 'marks': 60} <class 'dict'>\n"
     ]
    }
   ],
   "source": [
    "dict_1={\n",
    "        \"name\":\"nishan\",\n",
    "        \"age\":20,\n",
    "        \"marks\":50,\n",
    "        }\n",
    "print(dict_1,type(dict_1))"
   ]
  },
  {
   "cell_type": "code",
   "execution_count": 39,
   "metadata": {},
   "outputs": [
    {
     "name": "stdout",
     "output_type": "stream",
     "text": [
      "{'name': 'nishanTharaka', 'age': 21, 'marks': 60} <class 'dict'> 3\n"
     ]
    }
   ],
   "source": [
    "dict_2={\"name\":\"nishanTharaka\",\"age\":21,\"marks\":50,\"marks\":60}\n",
    "print(dict_2,type(dict_2),len(dict_2))"
   ]
  },
  {
   "cell_type": "code",
   "execution_count": 40,
   "metadata": {},
   "outputs": [
    {
     "name": "stdout",
     "output_type": "stream",
     "text": [
      "nishanTharaka\n"
     ]
    }
   ],
   "source": [
    "dict_2={\"name\":\"nishanTharaka\",\"age\":21,\"marks\":50,\"marks\":60}\n",
    "print(dict_2[\"name\"])"
   ]
  },
  {
   "cell_type": "code",
   "execution_count": null,
   "metadata": {},
   "outputs": [
    {
     "name": "stdout",
     "output_type": "stream",
     "text": [
      "{'name': 'nishan', 'age': 20, 'marks': 60}\n",
      "{'name': 'tharaka', 'age': 20, 'marks': 70}\n"
     ]
    }
   ],
   "source": [
    "print(dict_1)\n",
    "dict_1[\"name\"]=\"tharaka\"\n",
    "dict_1[\"marks\"]=70\n",
    "print(dict_1)"
   ]
  },
  {
   "cell_type": "code",
   "execution_count": 42,
   "metadata": {},
   "outputs": [
    {
     "name": "stdout",
     "output_type": "stream",
     "text": [
      "{'name': 'tharaka', 'age': 20, 'marks': 80}\n"
     ]
    }
   ],
   "source": [
    "dict_1.update({\"marks\":80})\n",
    "print(dict_1)"
   ]
  },
  {
   "cell_type": "code",
   "execution_count": 44,
   "metadata": {},
   "outputs": [
    {
     "name": "stdout",
     "output_type": "stream",
     "text": [
      "{'name': 'tharaka', 'age': 20, 'marks': 80, 'cplour': 'yellow'} 4\n"
     ]
    }
   ],
   "source": [
    "dict_1[\"cplour\"]=\"yellow\"\n",
    "print(dict_1,len(dict_1))"
   ]
  },
  {
   "cell_type": "code",
   "execution_count": 45,
   "metadata": {},
   "outputs": [
    {
     "name": "stdout",
     "output_type": "stream",
     "text": [
      "{'name': 'tharaka', 'age': 20, 'cplour': 'yellow'}\n"
     ]
    }
   ],
   "source": [
    "dict_1.pop(\"marks\")\n",
    "print(dict_1)"
   ]
  },
  {
   "cell_type": "code",
   "execution_count": 46,
   "metadata": {},
   "outputs": [
    {
     "name": "stdout",
     "output_type": "stream",
     "text": [
      "{'name': 'tharaka', 'age': 20}\n"
     ]
    }
   ],
   "source": [
    "dict_1.popitem()\n",
    "print(dict_1)"
   ]
  }
 ],
 "metadata": {
  "kernelspec": {
   "display_name": "Python 3",
   "language": "python",
   "name": "python3"
  },
  "language_info": {
   "codemirror_mode": {
    "name": "ipython",
    "version": 3
   },
   "file_extension": ".py",
   "mimetype": "text/x-python",
   "name": "python",
   "nbconvert_exporter": "python",
   "pygments_lexer": "ipython3",
   "version": "3.13.0"
  }
 },
 "nbformat": 4,
 "nbformat_minor": 2
}
