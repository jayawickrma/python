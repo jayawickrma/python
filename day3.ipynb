{
 "cells": [
  {
   "cell_type": "code",
   "execution_count": 2,
   "metadata": {},
   "outputs": [
    {
     "name": "stdout",
     "output_type": "stream",
     "text": [
      "even\n"
     ]
    }
   ],
   "source": [
    "x=10\n",
    "result=\"even\"if x%2==0 else \"odd\"\n",
    "print (result)"
   ]
  },
  {
   "cell_type": "code",
   "execution_count": null,
   "metadata": {},
   "outputs": [
    {
     "name": "stdout",
     "output_type": "stream",
     "text": [
      "even\n"
     ]
    }
   ],
   "source": [
    "x=int(input(\"Input value: \"))\n",
    "result=\"even\"if x % 3 ==0 and x % 2 ==0 else \"odd\"\n",
    "print (result)"
   ]
  },
  {
   "cell_type": "code",
   "execution_count": null,
   "metadata": {},
   "outputs": [
    {
     "name": "stdout",
     "output_type": "stream",
     "text": [
      "Not Found\n"
     ]
    }
   ],
   "source": [
    "staus=int(input(\"Status code: \"))\n",
    "match staus:\n",
    "    case 200:\n",
    "        print(\"Success\")\n",
    "    case 201:\n",
    "        print(\"Created\")\n",
    "    case 400:\n",
    "        print(\"Bad Request\")\n",
    "    case 401:\n",
    "        print(\"Unauthorized\")\n",
    "    case 404:\n",
    "        print(\"Not Found\")\n",
    "    case 500:\n",
    "        print(\"Internal Server Error\")\n",
    "    case 503:\n",
    "        print(\"Service Unavailable\")\n",
    "    case _:\n",
    "        print(\"Invalid Status Code\")    "
   ]
  },
  {
   "cell_type": "code",
   "execution_count": 5,
   "metadata": {},
   "outputs": [
    {
     "name": "stdout",
     "output_type": "stream",
     "text": [
      "positive number And greater than 1\n"
     ]
    }
   ],
   "source": [
    "x=int(input(\"Input value\"))\n",
    "match x:\n",
    "    case 0:\n",
    "        print(\"Zero\")\n",
    "    case -1:\n",
    "        print(\"Negative One\")\n",
    "    case 1:\n",
    "        print(\"Positive One\")\n",
    "    case x if x >1:\n",
    "        print(\"positive number And greater than 1\")\n",
    "    case x if x <0:\n",
    "        print(\"negative number and less than one\")\n",
    "    case _:\n",
    "        print(\"Invalid number\")"
   ]
  },
  {
   "cell_type": "code",
   "execution_count": null,
   "metadata": {},
   "outputs": [
    {
     "name": "stdout",
     "output_type": "stream",
     "text": [
      "List is empty\n"
     ]
    }
   ],
   "source": [
    "x=[10,20,30]\n",
    "y=len(x)\n",
    "match y:\n",
    "    case 0:\n",
    "        print(\"List is empty\")\n",
    "    case 1:\n",
    "        print(\"List has one element\")\n",
    "    case 2:\n",
    "        print(\"List has two elements\")\n",
    "    case _:\n",
    "        print(\"List has more than one element\")"
   ]
  },
  {
   "cell_type": "code",
   "execution_count": 8,
   "metadata": {},
   "outputs": [
    {
     "name": "stdout",
     "output_type": "stream",
     "text": [
      "[49, 64, 100]\n"
     ]
    }
   ],
   "source": [
    "my_list =[7,8,10]\n",
    "my_list2 =[]\n",
    "for i in my_list:\n",
    "    my_list2.append(i*i)\n",
    "print(my_list2)"
   ]
  },
  {
   "cell_type": "code",
   "execution_count": 7,
   "metadata": {},
   "outputs": [
    {
     "name": "stdout",
     "output_type": "stream",
     "text": [
      "[0, 1, 4, 9, 16, 25, 36, 49, 64, 81, 100]\n"
     ]
    }
   ],
   "source": [
    "# print the squre number ramge in 1-10\n",
    "print ([x**2 for x in range(11)])\n"
   ]
  },
  {
   "cell_type": "code",
   "execution_count": 8,
   "metadata": {},
   "outputs": [
    {
     "name": "stdout",
     "output_type": "stream",
     "text": [
      "[4, 16, 36, 64, 100]\n"
     ]
    }
   ],
   "source": [
    "# print the squre number ramge in 1-10 and even numbers\n",
    "print ([x**2 for x in range(1,11)if x % 2 == 0])\n"
   ]
  },
  {
   "cell_type": "code",
   "execution_count": null,
   "metadata": {},
   "outputs": [
    {
     "name": "stdout",
     "output_type": "stream",
     "text": [
      "0 1 2 3 4 5 6 7 8 9 END\n"
     ]
    }
   ],
   "source": [
    "#while loops  run untill while loop condition true\n",
    "m=10\n",
    "i=0\n",
    "while i<m:\n",
    "    print(i,end=\" \")\n",
    "    i=i+1\n",
    "print(\"END\")"
   ]
  },
  {
   "cell_type": "code",
   "execution_count": null,
   "metadata": {},
   "outputs": [
    {
     "name": "stdout",
     "output_type": "stream",
     "text": [
      "20\n",
      "19\n",
      "18\n",
      "17\n",
      "16\n",
      "15\n",
      "14\n",
      "13\n",
      "12\n",
      "11\n",
      "10\n",
      "9\n",
      "8\n",
      "7\n",
      "6\n",
      "5\n",
      "4\n",
      "3\n",
      "2\n",
      "1\n",
      "0\n"
     ]
    }
   ],
   "source": [
    "#desending values and print even numbers\n",
    "x=int(input(\"Enter\"))\n",
    "\n",
    "while 0<x:\n",
    "    print(x)\n",
    "    x=x-1\n",
    "print(\"0\")\n",
    "   "
   ]
  },
  {
   "cell_type": "code",
   "execution_count": null,
   "metadata": {},
   "outputs": [],
   "source": [
    "x=int(input(\"enter\"))\n",
    "i =2\n",
    "while i<x:\n",
    "    if i==30:\n",
    "        break\n",
    "    print(i)\n",
    "    i=i+1"
   ]
  },
  {
   "cell_type": "code",
   "execution_count": null,
   "metadata": {},
   "outputs": [
    {
     "name": "stdout",
     "output_type": "stream",
     "text": [
      "48\n"
     ]
    }
   ],
   "source": [
    "#get the summery of input numbers using while loop\n",
    "mylist = []\n",
    "while True:\n",
    "    x=int(input(\"Enter\"))\n",
    "    mylist.append(x)\n",
    "    if x==0:\n",
    "        break\n",
    "\n",
    "print(sum(mylist))\n"
   ]
  },
  {
   "cell_type": "code",
   "execution_count": null,
   "metadata": {},
   "outputs": [
    {
     "name": "stdout",
     "output_type": "stream",
     "text": [
      "3\n",
      "5\n",
      "7\n",
      "9\n"
     ]
    }
   ],
   "source": [
    "#print the odd numbers using for loop amnd continue keyword\n",
    "#if eke thiyena eka nathuwa anith tika continue eken print krnw\n",
    "list=[2,3,4,5,6,7,8,9,10]\n",
    "\n",
    "for i in list:\n",
    "    if i % 2 == 0:\n",
    "        continue\n",
    "    print(i)"
   ]
  }
 ],
 "metadata": {
  "kernelspec": {
   "display_name": "Python 3",
   "language": "python",
   "name": "python3"
  },
  "language_info": {
   "codemirror_mode": {
    "name": "ipython",
    "version": 3
   },
   "file_extension": ".py",
   "mimetype": "text/x-python",
   "name": "python",
   "nbconvert_exporter": "python",
   "pygments_lexer": "ipython3",
   "version": "3.13.0"
  }
 },
 "nbformat": 4,
 "nbformat_minor": 2
}
