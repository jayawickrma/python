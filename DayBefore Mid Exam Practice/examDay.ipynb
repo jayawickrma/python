{
 "cells": [
  {
   "cell_type": "code",
   "execution_count": 1,
   "metadata": {},
   "outputs": [
    {
     "name": "stdout",
     "output_type": "stream",
     "text": [
      "<class 'function'>\n"
     ]
    }
   ],
   "source": [
    "def hellow():\n",
    "    print(\"hello\")\n",
    "\n",
    "x =1\n",
    "print(type(hellow))"
   ]
  },
  {
   "cell_type": "code",
   "execution_count": null,
   "metadata": {},
   "outputs": [
    {
     "name": "stdout",
     "output_type": "stream",
     "text": [
      "DMAYANTHI\n"
     ]
    }
   ],
   "source": [
    "string = \"dmayanthi\"\n",
    "print(string.upper())"
   ]
  },
  {
   "cell_type": "code",
   "execution_count": 7,
   "metadata": {},
   "outputs": [
    {
     "name": "stdout",
     "output_type": "stream",
     "text": [
      "Nethmi\n",
      "<class '__main__.Dog'>\n",
      "20\n"
     ]
    }
   ],
   "source": [
    "class Dog :\n",
    "    def bark(self):\n",
    "        print(\"Nethmi\")\n",
    "\n",
    "    def substractOne(self,x):\n",
    "        return x-1\n",
    "\n",
    "nishan =Dog()\n",
    "nishan.bark()\n",
    "print(type(nishan))\n",
    "print(nishan.substractOne(21))"
   ]
  },
  {
   "cell_type": "code",
   "execution_count": null,
   "metadata": {},
   "outputs": [
    {
     "name": "stdout",
     "output_type": "stream",
     "text": [
      "mouse\n",
      "True\n",
      "mouse is eating\n",
      "mouse is sleeping\n"
     ]
    }
   ],
   "source": [
    "\n",
    "#inheritance in python\n",
    "\n",
    "class Animal:\n",
    "    def __init__(self, name):  # Corrected constructor name\n",
    "        self.name = name\n",
    "        self.is_Alive = True\n",
    "\n",
    "    def eat(self):\n",
    "        print(f\"{self.name} is eating\")\n",
    "\n",
    "    def sleeping(self):\n",
    "        print(f\"{self.name} is sleeping\")\n",
    "\n",
    "\n",
    "class Dog(Animal):\n",
    "    pass\n",
    "\n",
    "\n",
    "class Humen(Animal):\n",
    "    pass\n",
    "\n",
    "\n",
    "class Mouse(Animal):\n",
    "    pass\n",
    "\n",
    "\n",
    "dog = Dog(\"shagy\")\n",
    "humen = Humen(\"nishan\")\n",
    "mouse = Mouse(\"mouse\")\n",
    "\n",
    "print(mouse.name)\n",
    "print(mouse.is_Alive)\n",
    "mouse.eat()\n",
    "mouse.sleeping()\n"
   ]
  },
  {
   "cell_type": "code",
   "execution_count": null,
   "metadata": {},
   "outputs": [
    {
     "name": "stdout",
     "output_type": "stream",
     "text": [
      "Original Price: 12.6\n",
      "Updated Price: 15.75\n"
     ]
    }
   ],
   "source": [
    "class Payment:\n",
    "    def __init__(self, price):\n",
    "        self.__price = price + price * 0.05 \n",
    "\n",
    "    # Getter for price\n",
    "    def get_price(self):\n",
    "        return self.__price\n",
    "\n",
    "    # Setter for price\n",
    "    def set_price(self, new_price):\n",
    "        self.__price = new_price + new_price * 0.05  \n",
    "\n",
    "\n",
    "# Example usage\n",
    "book = Payment(12)\n",
    "print(\"Original Price:\", book.get_price())  \n",
    "book.set_price(15)  \n",
    "print(\"Updated Price:\", book.get_price())\n"
   ]
  },
  {
   "cell_type": "code",
   "execution_count": 28,
   "metadata": {},
   "outputs": [
    {
     "name": "stdout",
     "output_type": "stream",
     "text": [
      "Buddy says Woof!\n",
      "Kitty says Meow!\n"
     ]
    }
   ],
   "source": [
    "class Animal:\n",
    "    def __init__(self, name):\n",
    "        self.__name = name  # Encapsulation: Private attribute\n",
    "\n",
    "    def get_name(self):\n",
    "        return self.__name\n",
    "\n",
    "    def speak(self):\n",
    "        pass  # Placeholder for polymorphic behavior\n",
    "\n",
    "class Dog(Animal):\n",
    "    def speak(self):\n",
    "        return f\"{self.get_name()} says Woof!\"\n",
    "\n",
    "class Cat(Animal):\n",
    "    def speak(self):\n",
    "        return f\"{self.get_name()} says Meow!\"\n",
    "\n",
    "# Polymorphism and encapsulation in action\n",
    "animals = [Dog(\"Buddy\"), Cat(\"Kitty\")]\n",
    "\n",
    "for animal in animals:\n",
    "    print(animal.speak())\n"
   ]
  }
 ],
 "metadata": {
  "kernelspec": {
   "display_name": "Python 3",
   "language": "python",
   "name": "python3"
  },
  "language_info": {
   "codemirror_mode": {
    "name": "ipython",
    "version": 3
   },
   "file_extension": ".py",
   "mimetype": "text/x-python",
   "name": "python",
   "nbconvert_exporter": "python",
   "pygments_lexer": "ipython3",
   "version": "3.13.0"
  }
 },
 "nbformat": 4,
 "nbformat_minor": 2
}
