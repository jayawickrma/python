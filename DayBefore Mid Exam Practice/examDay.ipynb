{
 "cells": [
  {
   "cell_type": "code",
   "execution_count": 1,
   "metadata": {},
   "outputs": [
    {
     "name": "stdout",
     "output_type": "stream",
     "text": [
      "<class 'function'>\n"
     ]
    }
   ],
   "source": [
    "def hellow():\n",
    "    print(\"hello\")\n",
    "\n",
    "x =1\n",
    "print(type(hellow))"
   ]
  },
  {
   "cell_type": "code",
   "execution_count": null,
   "metadata": {},
   "outputs": [
    {
     "name": "stdout",
     "output_type": "stream",
     "text": [
      "DMAYANTHI\n"
     ]
    }
   ],
   "source": [
    "string = \"dmayanthi\"\n",
    "print(string.upper())"
   ]
  },
  {
   "cell_type": "code",
   "execution_count": 7,
   "metadata": {},
   "outputs": [
    {
     "name": "stdout",
     "output_type": "stream",
     "text": [
      "Nethmi\n",
      "<class '__main__.Dog'>\n",
      "20\n"
     ]
    }
   ],
   "source": [
    "class Dog :\n",
    "    def bark(self):\n",
    "        print(\"Nethmi\")\n",
    "\n",
    "    def substractOne(self,x):\n",
    "        return x-1\n",
    "\n",
    "nishan =Dog()\n",
    "nishan.bark()\n",
    "print(type(nishan))\n",
    "print(nishan.substractOne(21))"
   ]
  },
  {
   "cell_type": "code",
   "execution_count": 21,
   "metadata": {},
   "outputs": [
    {
     "name": "stdout",
     "output_type": "stream",
     "text": [
      "mouse\n",
      "True\n",
      "mouse is eating\n",
      "mouse is sleeping\n"
     ]
    }
   ],
   "source": [
    "class Animal:\n",
    "    def __init__(self, name):  # Corrected constructor name\n",
    "        self.name = name\n",
    "        self.is_Alive = True\n",
    "\n",
    "    def eat(self):\n",
    "        print(f\"{self.name} is eating\")\n",
    "\n",
    "    def sleeping(self):\n",
    "        print(f\"{self.name} is sleeping\")\n",
    "\n",
    "\n",
    "class Dog(Animal):\n",
    "    pass\n",
    "\n",
    "\n",
    "class Humen(Animal):\n",
    "    pass\n",
    "\n",
    "\n",
    "class Mouse(Animal):\n",
    "    pass\n",
    "\n",
    "\n",
    "dog = Dog(\"shagy\")\n",
    "humen = Humen(\"nishan\")\n",
    "mouse = Mouse(\"mouse\")\n",
    "\n",
    "print(mouse.name)\n",
    "print(mouse.is_Alive)\n",
    "mouse.eat()\n",
    "mouse.sleeping()\n"
   ]
  }
 ],
 "metadata": {
  "kernelspec": {
   "display_name": "Python 3",
   "language": "python",
   "name": "python3"
  },
  "language_info": {
   "codemirror_mode": {
    "name": "ipython",
    "version": 3
   },
   "file_extension": ".py",
   "mimetype": "text/x-python",
   "name": "python",
   "nbconvert_exporter": "python",
   "pygments_lexer": "ipython3",
   "version": "3.13.0"
  }
 },
 "nbformat": 4,
 "nbformat_minor": 2
}
