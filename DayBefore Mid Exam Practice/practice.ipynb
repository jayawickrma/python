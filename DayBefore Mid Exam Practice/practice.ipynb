{
 "cells": [
  {
   "cell_type": "code",
   "execution_count": 1,
   "metadata": {},
   "outputs": [
    {
     "name": "stdout",
     "output_type": "stream",
     "text": [
      "[12, 23, 34, 45]\n"
     ]
    }
   ],
   "source": [
    "my_List=[12,23,34,45]\n",
    "print(my_List)"
   ]
  },
  {
   "cell_type": "code",
   "execution_count": 5,
   "metadata": {},
   "outputs": [
    {
     "name": "stdout",
     "output_type": "stream",
     "text": [
      "[12, 23, 34, 45, 1, 23, 67, 87, 1, 23, 67, 87]\n",
      "[1, 1, 12, 23, 23, 23, 34, 45, 67, 67, 87, 87]\n"
     ]
    }
   ],
   "source": [
    "my_list1= [1,23,67,87]\n",
    "my_List2= my_List+my_list1\n",
    "print(my_List2)\n",
    "my =sorted(my_List2)\n",
    "print(my)"
   ]
  }
 ],
 "metadata": {
  "kernelspec": {
   "display_name": "Python 3",
   "language": "python",
   "name": "python3"
  },
  "language_info": {
   "codemirror_mode": {
    "name": "ipython",
    "version": 3
   },
   "file_extension": ".py",
   "mimetype": "text/x-python",
   "name": "python",
   "nbconvert_exporter": "python",
   "pygments_lexer": "ipython3",
   "version": "3.13.0"
  }
 },
 "nbformat": 4,
 "nbformat_minor": 2
}
