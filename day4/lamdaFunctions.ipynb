{
 "cells": [
  {
   "cell_type": "code",
   "execution_count": null,
   "metadata": {},
   "outputs": [
    {
     "name": "stdout",
     "output_type": "stream",
     "text": [
      "<function <lambda> at 0x0000013B87CF7100> (3, 4)\n"
     ]
    }
   ],
   "source": [
    "#Lamda function\n",
    "add= lambda x,y : x+y\n",
    "print(add,(3,4))\n"
   ]
  },
  {
   "cell_type": "code",
   "execution_count": 4,
   "metadata": {},
   "outputs": [
    {
     "name": "stdout",
     "output_type": "stream",
     "text": [
      "8\n"
     ]
    }
   ],
   "source": [
    "#lamda function\n",
    "result=(lambda x,y :x+y)(5,3)\n",
    "print(result)"
   ]
  },
  {
   "cell_type": "code",
   "execution_count": 8,
   "metadata": {},
   "outputs": [
    {
     "name": "stdout",
     "output_type": "stream",
     "text": [
      "[('John', 20), ('Bob', 25)]\n",
      "[('Bob', 25)]\n"
     ]
    }
   ],
   "source": [
    "# write a program \n",
    "# 1. take a list of tuples,where each tuple contain a name and age.\n",
    "# 2. use a lambda function to filter out the tuple where the age is greater than 18\n",
    "# 3. print the list of tuples after filtering\n",
    "\n",
    "names_ages = [('John', 20), ('Mary', 16), ('Bob', 25), ('Alice', 18)]\n",
    "\n",
    "filtered_ages = list(filter(lambda x: x[1] > 18, names_ages))\n",
    "filtr_maried = list(filter(lambda x:x[1] >=22, names_ages))\n",
    "print(filtered_ages)\n",
    "print(filtr_maried)\n"
   ]
  },
  {
   "cell_type": "code",
   "execution_count": 10,
   "metadata": {},
   "outputs": [
    {
     "name": "stdout",
     "output_type": "stream",
     "text": [
      "23\n"
     ]
    }
   ],
   "source": [
    "#largestt number\n",
    "\n",
    "find_max=lambda a,b :a if a>b else b\n",
    "print(find_max(12,23))"
   ]
  },
  {
   "cell_type": "code",
   "execution_count": 17,
   "metadata": {},
   "outputs": [
    {
     "name": "stdout",
     "output_type": "stream",
     "text": [
      "The factorial of 3 is: 6\n"
     ]
    }
   ],
   "source": [
    "#factorial number\n",
    "num = 3\n",
    "\n",
    "factorial = 1\n",
    "\n",
    "for i in range(1, num + 1):\n",
    "    factorial *= i\n",
    "\n",
    "print(f\"The factorial of {num} is: {factorial}\")\n"
   ]
  }
 ],
 "metadata": {
  "kernelspec": {
   "display_name": "Python 3",
   "language": "python",
   "name": "python3"
  },
  "language_info": {
   "codemirror_mode": {
    "name": "ipython",
    "version": 3
   },
   "file_extension": ".py",
   "mimetype": "text/x-python",
   "name": "python",
   "nbconvert_exporter": "python",
   "pygments_lexer": "ipython3",
   "version": "3.13.0"
  }
 },
 "nbformat": 4,
 "nbformat_minor": 2
}
