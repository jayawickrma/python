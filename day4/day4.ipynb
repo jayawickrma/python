{
 "cells": [
  {
   "cell_type": "code",
   "execution_count": 3,
   "metadata": {},
   "outputs": [
    {
     "name": "stdout",
     "output_type": "stream",
     "text": [
      "(1, 2, 3) <class 'tuple'>\n"
     ]
    }
   ],
   "source": [
    "def abc(*args):{\n",
    "    print(args,type(args))\n",
    "}\n",
    "\n",
    "abc(1,2,3)"
   ]
  },
  {
   "cell_type": "code",
   "execution_count": null,
   "metadata": {},
   "outputs": [
    {
     "name": "stdout",
     "output_type": "stream",
     "text": [
      "(1, 2, 3) 6\n"
     ]
    }
   ],
   "source": [
    "def sum_Of_numbers(*args):{\n",
    "    print(args,sum(args))\n",
    "}\n",
    "    \n",
    "sum_Of_numbers(1,2,3)"
   ]
  },
  {
   "cell_type": "code",
   "execution_count": 6,
   "metadata": {},
   "outputs": [
    {
     "name": "stdout",
     "output_type": "stream",
     "text": [
      "Sum of all srades: 127\n",
      "Count of srades: 3\n",
      "Average of all srades: 42.333333333333336\n"
     ]
    }
   ],
   "source": [
    "#calculate summarize srades,avarage srades\n",
    "#if no srades are provided you shoult print no srades available\n",
    "def summerize_srades(*srades):\n",
    "    if not srades:\n",
    "        print(\"No srades available\")\n",
    "        return\n",
    "\n",
    "    total=sum(srades)\n",
    "    count=len(srades)\n",
    "    average=total/count\n",
    "\n",
    "    print(\"Sum of all srades:\",total)\n",
    "    print(\"Count of srades:\",count)\n",
    "    print(\"Average of all srades:\",average)\n",
    "\n",
    "summerize_srades(61,27,39)"
   ]
  }
 ],
 "metadata": {
  "kernelspec": {
   "display_name": "Python 3",
   "language": "python",
   "name": "python3"
  },
  "language_info": {
   "codemirror_mode": {
    "name": "ipython",
    "version": 3
   },
   "file_extension": ".py",
   "mimetype": "text/x-python",
   "name": "python",
   "nbconvert_exporter": "python",
   "pygments_lexer": "ipython3",
   "version": "3.13.0"
  }
 },
 "nbformat": 4,
 "nbformat_minor": 2
}
