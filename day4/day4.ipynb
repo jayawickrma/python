{
 "cells": [
  {
   "cell_type": "code",
   "execution_count": 3,
   "metadata": {},
   "outputs": [
    {
     "name": "stdout",
     "output_type": "stream",
     "text": [
      "(1, 2, 3) <class 'tuple'>\n"
     ]
    }
   ],
   "source": [
    "def abc(*args):{\n",
    "    print(args,type(args))\n",
    "}\n",
    "\n",
    "abc(1,2,3)"
   ]
  },
  {
   "cell_type": "code",
   "execution_count": null,
   "metadata": {},
   "outputs": [
    {
     "name": "stdout",
     "output_type": "stream",
     "text": [
      "(1, 2, 3) 6\n"
     ]
    }
   ],
   "source": [
    "def sum_Of_numbers(*args):{\n",
    "    print(args,sum(args))\n",
    "}\n",
    "    \n",
    "sum_Of_numbers(1,2,3)"
   ]
  },
  {
   "cell_type": "code",
   "execution_count": 7,
   "metadata": {},
   "outputs": [
    {
     "name": "stdout",
     "output_type": "stream",
     "text": [
      "Sum of all srades: 328\n",
      "Count of srades: 6\n",
      "Average of all srades: 54.666666666666664\n",
      "Highest scored sade: 89\n",
      "Lowest scored sade: 27\n"
     ]
    }
   ],
   "source": [
    "#calculate summarize srades,avarage srades\n",
    "#if no srades are provided you shoult print no srades available\n",
    "def summerize_srades(*srades):\n",
    "    if not srades:\n",
    "        print(\"No srades available\")\n",
    "        return\n",
    "\n",
    "    total=sum(srades)\n",
    "    count=len(srades)\n",
    "    average=total/count\n",
    "    highest=max(srades)\n",
    "    lowest=min(srades)\n",
    "\n",
    "    print(\"Sum of all srades:\",total)\n",
    "    print(\"Count of srades:\",count)\n",
    "    print(\"Average of all srades:\",average)\n",
    "    print(\"Highest scored sade:\",highest)\n",
    "    print(\"Lowest scored sade:\",lowest)\n",
    "\n",
    "summerize_srades(61,27,39,89,34,78)"
   ]
  },
  {
   "cell_type": "code",
   "execution_count": 9,
   "metadata": {},
   "outputs": [
    {
     "name": "stdout",
     "output_type": "stream",
     "text": [
      "{'name': 'John', 'age': 30, 'city': 'New York'}\n",
      "<class 'dict'>\n"
     ]
    }
   ],
   "source": [
    "def attribirary_keyword_args(**args):\n",
    "    print(args)\n",
    "    print(type(args))\n",
    "\n",
    "attribirary_keyword_args(name='John', age=30, city='New York')"
   ]
  },
  {
   "cell_type": "code",
   "execution_count": null,
   "metadata": {},
   "outputs": [
    {
     "name": "stdout",
     "output_type": "stream",
     "text": [
      "Employee name John Doe\n",
      "age: 30\n",
      "city: New York\n",
      "department: Engineering\n"
     ]
    },
    {
     "data": {
      "text/plain": [
       "{'name': 'John Doe',\n",
       " 'details': {'age': 30, 'city': 'New York', 'department': 'Engineering'}}"
      ]
     },
     "execution_count": 21,
     "metadata": {},
     "output_type": "execute_result"
    }
   ],
   "source": [
    "#write a python function for employee info that accepter required name parameeters and an arbinary number of keyword arguments representing additional details about the employee.the function should,\n",
    "    #print the employees name iterate thruogh the keyword arguments and print each key value pare in the formats key values\n",
    "    #return a dictonary with all the employees details\n",
    "\n",
    "def employee_info(name, **details):\n",
    "  print(\"Employee name\",name)\n",
    "  for key, value in details.items():\n",
    "    print(f\"{key}: {value}\")\n",
    "\n",
    "  return {\"name\": name, \"details\": details}\n",
    "employee_info(\"John Doe\", age=30, city=\"New York\", department=\"Engineering\")\n",
    "\n",
    "\n"
   ]
  },
  {
   "cell_type": "code",
   "execution_count": null,
   "metadata": {},
   "outputs": [],
   "source": []
  }
 ],
 "metadata": {
  "kernelspec": {
   "display_name": "Python 3",
   "language": "python",
   "name": "python3"
  },
  "language_info": {
   "codemirror_mode": {
    "name": "ipython",
    "version": 3
   },
   "file_extension": ".py",
   "mimetype": "text/x-python",
   "name": "python",
   "nbconvert_exporter": "python",
   "pygments_lexer": "ipython3",
   "version": "3.13.0"
  }
 },
 "nbformat": 4,
 "nbformat_minor": 2
}
